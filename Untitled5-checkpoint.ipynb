{
 "cells": [
  {
   "cell_type": "code",
   "execution_count": 8,
   "id": "fe4d87c6-7ec4-470f-a765-e0dff7e5976b",
   "metadata": {
    "tags": []
   },
   "outputs": [
    {
     "name": "stdout",
     "output_type": "stream",
     "text": [
      "C:\\Phonee\\ML_Project\\DataSet\\YOUNG\n",
      "C:\\Phonee\\ML_Project\\DataSet\\MIDDLE\n",
      "C:\\Phonee\\ML_Project\\DataSet\\OLD\n"
     ]
    }
   ],
   "source": [
    "import os\n",
    "import matplotlib.pyplot as plt\n",
    "import numpy as np\n",
    "from skimage.io import imread\n",
    "from skimage.transform import resize\n",
    "from skimage.color import rgb2gray\n",
    "\n",
    "target = [] #target containing the encoded labels.\n",
    "images = [] #images containing the normalized images after resizing them.\n",
    "flat_data = [] #flat_data containing the flattened image data\n",
    "DATADIR = 'C:\\\\Phonee\\\\ML_Project\\\\DataSet\\\\'  # Using consistent backslashes\n",
    "CATEGORIES = ['YOUNG', 'MIDDLE', 'OLD']\n",
    "\n",
    "for category in CATEGORIES:\n",
    "    class_num = CATEGORIES.index(category)  # Encoding the label values\n",
    "    path = os.path.join(DATADIR, category)\n",
    "    print(path)\n",
    "    for img in os.listdir(path):\n",
    "        img_array = imread(os.path.join(path, img))\n",
    "        \n",
    "        if len(img_array.shape) == 3 and img_array.shape[2] == 3:  # Check if image is RGB\n",
    "            img_gray = rgb2gray(img_array)\n",
    "        else:\n",
    "            img_gray = img_array  # Grayscale image doesn't need conversion\n",
    "        \n",
    "        img_resize = resize(img_gray, (150, 150))  # RESIZING\n",
    "        \n",
    "        # Normalize pixel values to range [0, 1]\n",
    "        img_normalized = img_resize / 255.0  # Assuming original pixel values are in [0, 255] range\n",
    "        \n",
    "        flat_data.append(img_normalized.flatten())  # FLATTEN\n",
    "        images.append(img_normalized)\n",
    "        target.append(class_num)\n",
    "\n",
    "flat_data = np.array(flat_data)\n",
    "target = np.array(target)\n",
    "images = np.array(images)"
   ]
  },
  {
   "cell_type": "code",
   "execution_count": 15,
   "id": "7d241e88-db4a-43ad-a9e0-f1de23547223",
   "metadata": {
    "tags": []
   },
   "outputs": [
    {
     "data": {
      "text/plain": [
       "<BarContainer object of 3 artists>"
      ]
     },
     "execution_count": 15,
     "metadata": {},
     "output_type": "execute_result"
    },
    {
     "data": {
      "image/png": "[encoded data removed]",
      "text/plain": [
       "<Figure size 640x480 with 1 Axes>"
      ]
     },
     "metadata": {},
     "output_type": "display_data"
    }
   ],
   "source": [
    "unique,count = np.unique(target, return_counts=True)\n",
    "plt.bar(CATEGORIES, count)"
   ]
  },
  {
   "cell_type": "code",
   "execution_count": 17,
   "id": "08523435-ec51-4abc-98e2-35d60c47329f",
   "metadata": {
    "tags": []
   },
   "outputs": [],
   "source": [
    "# Split data into training and the remaining data (70% training, 30% combined for testing and validation)\n",
    "x_train, x_remaining, y_train, y_remaining = train_test_split(flat_data, target, test_size=0.3, random_state=42)\n",
    "\n",
    "# Split the remaining data into testing and validation (50% of the remaining data for each)\n",
    "x_test, x_val, y_test, y_val = train_test_split(x_remaining, y_remaining, test_size=0.5, random_state=42)\n"
   ]
  },
  {
   "cell_type": "markdown",
   "id": "d1877ecb-e5bd-4e61-a4c7-b52a89a703f2",
   "metadata": {},
   "source": [
    "Histogram of Oriented Gradients (HOG) using scikit-image:"
   ]
  },
  {
   "cell_type": "code",
   "execution_count": null,
   "id": "18edd7bd-1e75-4265-bb29-9653d01fd073",
   "metadata": {},
   "outputs": [],
   "source": [
    "from skimage.feature import hog\n",
    "from skimage import exposure\n",
    "import matplotlib.pyplot as plt\n",
    "import cv2\n",
    "import os\n",
    "\n",
    "# Function to perform HOG feature extraction on an image\n",
    "def calculate_hog_features(image):\n",
    "    gray_image = cv2.cvtColor(image, cv2.COLOR_BGR2GRAY)\n",
    "    hog_features, hog_image = hog(gray_image, orientations=9, pixels_per_cell=(8, 8),\n",
    "                                  cells_per_block=(2, 2), visualize=True, block_norm='L2-Hys')\n",
    "    return hog_features, hog_image\n",
    "\n",
    "# Directory containing the images\n",
    "images_directory = 'C:\\\\Phonee\\\\ML_Project\\\\DataSet\\\\YOUNG'\n",
    "\n",
    "# List all image files in the directory\n",
    "image_files = os.listdir(images_directory)\n",
    "\n",
    "# Process each image in the directory\n",
    "for image_file in image_files:\n",
    "    if image_file.endswith(('.jpg', '.jpeg', '.png')):  # Check if file is an image\n",
    "        image_path = os.path.join(images_directory, image_file)\n",
    "        image = cv2.imread(image_path)\n",
    "        \n",
    "        # Calculate HOG features for the current image\n",
    "        hog_features, hog_image = calculate_hog_features(image)\n",
    "        \n",
    "        # Display the original image and its HOG representation\n",
    "        fig, (ax1, ax2) = plt.subplots(1, 2, figsize=(12, 6), sharex=True, sharey=True)\n",
    "        ax1.imshow(cv2.cvtColor(image, cv2.COLOR_BGR2RGB))\n",
    "        ax1.set_title('Original Image')\n",
    "\n",
    "        # Enhance the HOG image for better visualization\n",
    "        hog_image_rescaled = exposure.rescale_intensity(hog_image, in_range=(0, 10))\n",
    "        ax2.imshow(hog_image_rescaled, cmap='gray')\n",
    "        ax2.set_title('HOG Features')\n",
    "        plt.show()\n",
    "    "
   ]
  },
  {
   "cell_type": "markdown",
   "id": "a3a0e884-a000-4ce3-982f-6d72d53f7619",
   "metadata": {},
   "source": [
    "Scale-Invariant Feature Transform (SIFT) using OpenCV:"
   ]
  },
  {
   "cell_type": "code",
   "execution_count": null,
   "id": "86b4d597-5d08-4f78-a765-955143150429",
   "metadata": {
    "tags": []
   },
   "outputs": [],
   "source": [
    "import cv2\n",
    "import os\n",
    "\n",
    "# Function to perform SIFT feature extraction on an image\n",
    "def extract_sift_features(image):\n",
    "    gray_image = cv2.cvtColor(image, cv2.COLOR_BGR2GRAY)\n",
    "    sift = cv2.SIFT_create()\n",
    "    keypoints, descriptors = sift.detectAndCompute(gray_image, None)\n",
    "    return keypoints, descriptors\n",
    "\n",
    "# Directory containing the images\n",
    "images_directory = 'C:\\\\Phonee\\\\ML_Project\\\\DataSet\\\\YOUNG'\n",
    "\n",
    "# List all image files in the directory\n",
    "image_files = os.listdir(images_directory)\n",
    "\n",
    "# Process each image in the directory\n",
    "for image_file in image_files:\n",
    "    if image_file.endswith(('.jpg', '.jpeg', '.png')):  # Check if file is an image\n",
    "        image_path = os.path.join(images_directory, image_file)\n",
    "        image = cv2.imread(image_path)\n",
    "        \n",
    "        # Extract SIFT features for the current image\n",
    "        keypoints, descriptors = extract_sift_features(image)\n",
    "        \n",
    "        # Draw keypoints on the original image\n",
    "        image_with_keypoints = cv2.drawKeypoints(image, keypoints, None)\n",
    "        \n",
    "        # Display the image with keypoints\n",
    "        cv2.imshow('Image with SIFT Keypoints', image_with_keypoints)\n",
    "        cv2.waitKey(0)\n",
    "\n",
    "# Close all OpenCV windows\n",
    "cv2.destroyAllWindows()\n"
   ]
  },
  {
   "cell_type": "code",
   "execution_count": null,
   "id": "517c6398-061c-473c-b531-dd5e4cd089dd",
   "metadata": {},
   "outputs": [],
   "source": []
  }
 ],
 "metadata": {
  "kernelspec": {
   "display_name": "Python 3 (ipykernel)",
   "language": "python",
   "name": "python3"
  },
  "language_info": {
   "codemirror_mode": {
    "name": "ipython",
    "version": 3
   },
   "file_extension": ".py",
   "mimetype": "text/x-python",
   "name": "python",
   "nbconvert_exporter": "python",
   "pygments_lexer": "ipython3",
   "version": "3.11.4"
  }
 },
 "nbformat": 4,
 "nbformat_minor": 5
}
